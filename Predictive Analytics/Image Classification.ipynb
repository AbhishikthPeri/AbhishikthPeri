{
 "cells": [
  {
   "cell_type": "code",
   "execution_count": 73,
   "metadata": {
    "_cell_guid": "b1076dfc-b9ad-4769-8c92-a6c4dae69d19",
    "_uuid": "8f2839f25d086af736a60e9eeb907d3b93b6e0e5",
    "execution": {
     "iopub.execute_input": "2023-12-04T16:15:51.079163Z",
     "iopub.status.busy": "2023-12-04T16:15:51.078525Z",
     "iopub.status.idle": "2023-12-04T16:15:51.086512Z",
     "shell.execute_reply": "2023-12-04T16:15:51.085591Z",
     "shell.execute_reply.started": "2023-12-04T16:15:51.079129Z"
    }
   },
   "outputs": [
    {
     "name": "stdout",
     "output_type": "stream",
     "text": [
      "/kaggle/input/dogs-vs-cats-redux-kernels-edition/sample_submission.csv\n",
      "/kaggle/input/dogs-vs-cats-redux-kernels-edition/train.zip\n",
      "/kaggle/input/dogs-vs-cats-redux-kernels-edition/test.zip\n"
     ]
    }
   ],
   "source": [
    "# This Python 3 environment comes with many helpful analytics libraries installed\n",
    "# It is defined by the kaggle/python Docker image: https://github.com/kaggle/docker-python\n",
    "# For example, here's several helpful packages to load\n",
    "\n",
    "import numpy as np # linear algebra\n",
    "import pandas as pd # data processing, CSV file I/O (e.g. pd.read_csv)\n",
    "\n",
    "# Input data files are available in the read-only \"../input/\" directory\n",
    "# For example, running this (by clicking run or pressing Shift+Enter) will list all files under the input directory\n",
    "\n",
    "import os\n",
    "for dirname, _, filenames in os.walk('/kaggle/input'):\n",
    "    for filename in filenames:\n",
    "        print(os.path.join(dirname, filename))\n",
    "\n",
    "# You can write up to 20GB to the current directory (/kaggle/working/) that gets preserved as output when you create a version using \"Save & Run All\" \n",
    "# You can also write temporary files to /kaggle/temp/, but they won't be saved outside of the current session"
   ]
  },
  {
   "cell_type": "code",
   "execution_count": 74,
   "metadata": {
    "execution": {
     "iopub.execute_input": "2023-12-04T16:15:52.687792Z",
     "iopub.status.busy": "2023-12-04T16:15:52.686990Z",
     "iopub.status.idle": "2023-12-04T16:15:52.695309Z",
     "shell.execute_reply": "2023-12-04T16:15:52.694263Z",
     "shell.execute_reply.started": "2023-12-04T16:15:52.687758Z"
    }
   },
   "outputs": [],
   "source": [
    "import pandas as pd\n",
    "import numpy as np\n",
    "import matplotlib.pyplot as plt\n",
    "import seaborn as sns\n",
    "import math\n",
    "import os\n",
    "\n",
    "from sklearn.model_selection import train_test_split, GridSearchCV, StratifiedKFold, cross_val_score, KFold\n",
    "from sklearn.metrics import accuracy_score, mean_squared_error, roc_curve, auc, confusion_matrix, classification_report\n",
    "\n",
    "import tensorflow as tf\n",
    "from tensorflow.keras.preprocessing import image\n",
    "from tensorflow.keras.applications.vgg16 import VGG16, preprocess_input, decode_predictions\n",
    "from tensorflow.keras.layers import Dense, GlobalAveragePooling2D, Dropout\n",
    "from tensorflow.keras.models import Model\n",
    "from tensorflow.keras.applications import InceptionV3, ResNet50\n",
    "from tensorflow.keras.optimizers import Adam\n",
    "from tensorflow.keras.preprocessing.image import ImageDataGenerator\n",
    "from tensorflow.keras.models import Sequential"
   ]
  },
  {
   "cell_type": "code",
   "execution_count": 75,
   "metadata": {
    "execution": {
     "iopub.execute_input": "2023-12-04T16:16:32.290690Z",
     "iopub.status.busy": "2023-12-04T16:16:32.290028Z",
     "iopub.status.idle": "2023-12-04T16:16:48.524766Z",
     "shell.execute_reply": "2023-12-04T16:16:48.523899Z",
     "shell.execute_reply.started": "2023-12-04T16:16:32.290657Z"
    }
   },
   "outputs": [],
   "source": [
    "import zipfile\n",
    "\n",
    "# Defining the paths for the training and testing data\n",
    "train_path = '/kaggle/input/dogs-vs-cats-redux-kernels-edition/train.zip'\n",
    "test_path = '/kaggle/input/dogs-vs-cats-redux-kernels-edition/test.zip'\n",
    "\n",
    "# Extracting the training and testing data from the ZIP files\n",
    "with zipfile.ZipFile(train_path, 'r') as train_zip:\n",
    "    train_zip.extractall('../data')\n",
    "    \n",
    "with zipfile.ZipFile(test_path, 'r') as test_zip:\n",
    "    test_zip.extractall('../data')"
   ]
  },
  {
   "cell_type": "code",
   "execution_count": 76,
   "metadata": {
    "execution": {
     "iopub.execute_input": "2023-12-04T16:17:01.561552Z",
     "iopub.status.busy": "2023-12-04T16:17:01.560750Z",
     "iopub.status.idle": "2023-12-04T16:17:01.587828Z",
     "shell.execute_reply": "2023-12-04T16:17:01.587069Z",
     "shell.execute_reply.started": "2023-12-04T16:17:01.561515Z"
    }
   },
   "outputs": [],
   "source": [
    "train_jpg_names = os.listdir('../data/train')\n",
    "\n",
    "label = []\n",
    "\n",
    "for k in train_jpg_names:\n",
    "    if 'cat' in k:\n",
    "        label.append('Cat')\n",
    "    elif 'dog' in k:\n",
    "        label.append('Dog')\n",
    "    else:\n",
    "        label.append('Unknown')"
   ]
  },
  {
   "cell_type": "code",
   "execution_count": 77,
   "metadata": {
    "execution": {
     "iopub.execute_input": "2023-12-04T16:17:04.588209Z",
     "iopub.status.busy": "2023-12-04T16:17:04.587713Z",
     "iopub.status.idle": "2023-12-04T16:17:04.598218Z",
     "shell.execute_reply": "2023-12-04T16:17:04.596888Z",
     "shell.execute_reply.started": "2023-12-04T16:17:04.588172Z"
    }
   },
   "outputs": [],
   "source": [
    "train_data = pd.DataFrame({'Filename':train_jpg_names, 'Label':label})"
   ]
  },
  {
   "cell_type": "code",
   "execution_count": 78,
   "metadata": {
    "execution": {
     "iopub.execute_input": "2023-12-04T16:17:06.181185Z",
     "iopub.status.busy": "2023-12-04T16:17:06.180548Z",
     "iopub.status.idle": "2023-12-04T16:17:06.194591Z",
     "shell.execute_reply": "2023-12-04T16:17:06.193453Z",
     "shell.execute_reply.started": "2023-12-04T16:17:06.181149Z"
    }
   },
   "outputs": [],
   "source": [
    "test_jpg_names = os.listdir('../data/test')\n",
    "\n",
    "test_data = pd.DataFrame({'Filename':test_jpg_names})"
   ]
  },
  {
   "cell_type": "code",
   "execution_count": 79,
   "metadata": {
    "execution": {
     "iopub.execute_input": "2023-12-04T16:17:08.875005Z",
     "iopub.status.busy": "2023-12-04T16:17:08.874626Z",
     "iopub.status.idle": "2023-12-04T16:17:08.885537Z",
     "shell.execute_reply": "2023-12-04T16:17:08.884557Z",
     "shell.execute_reply.started": "2023-12-04T16:17:08.874965Z"
    }
   },
   "outputs": [
    {
     "data": {
      "text/html": [
       "<div>\n",
       "<style scoped>\n",
       "    .dataframe tbody tr th:only-of-type {\n",
       "        vertical-align: middle;\n",
       "    }\n",
       "\n",
       "    .dataframe tbody tr th {\n",
       "        vertical-align: top;\n",
       "    }\n",
       "\n",
       "    .dataframe thead th {\n",
       "        text-align: right;\n",
       "    }\n",
       "</style>\n",
       "<table border=\"1\" class=\"dataframe\">\n",
       "  <thead>\n",
       "    <tr style=\"text-align: right;\">\n",
       "      <th></th>\n",
       "      <th>Filename</th>\n",
       "      <th>Label</th>\n",
       "    </tr>\n",
       "  </thead>\n",
       "  <tbody>\n",
       "    <tr>\n",
       "      <th>0</th>\n",
       "      <td>dog.890.jpg</td>\n",
       "      <td>Dog</td>\n",
       "    </tr>\n",
       "    <tr>\n",
       "      <th>1</th>\n",
       "      <td>dog.1178.jpg</td>\n",
       "      <td>Dog</td>\n",
       "    </tr>\n",
       "    <tr>\n",
       "      <th>2</th>\n",
       "      <td>dog.7845.jpg</td>\n",
       "      <td>Dog</td>\n",
       "    </tr>\n",
       "    <tr>\n",
       "      <th>3</th>\n",
       "      <td>dog.4632.jpg</td>\n",
       "      <td>Dog</td>\n",
       "    </tr>\n",
       "    <tr>\n",
       "      <th>4</th>\n",
       "      <td>cat.3660.jpg</td>\n",
       "      <td>Cat</td>\n",
       "    </tr>\n",
       "    <tr>\n",
       "      <th>5</th>\n",
       "      <td>dog.814.jpg</td>\n",
       "      <td>Dog</td>\n",
       "    </tr>\n",
       "    <tr>\n",
       "      <th>6</th>\n",
       "      <td>dog.2066.jpg</td>\n",
       "      <td>Dog</td>\n",
       "    </tr>\n",
       "    <tr>\n",
       "      <th>7</th>\n",
       "      <td>dog.8575.jpg</td>\n",
       "      <td>Dog</td>\n",
       "    </tr>\n",
       "    <tr>\n",
       "      <th>8</th>\n",
       "      <td>dog.1444.jpg</td>\n",
       "      <td>Dog</td>\n",
       "    </tr>\n",
       "    <tr>\n",
       "      <th>9</th>\n",
       "      <td>cat.9803.jpg</td>\n",
       "      <td>Cat</td>\n",
       "    </tr>\n",
       "  </tbody>\n",
       "</table>\n",
       "</div>"
      ],
      "text/plain": [
       "       Filename Label\n",
       "0   dog.890.jpg   Dog\n",
       "1  dog.1178.jpg   Dog\n",
       "2  dog.7845.jpg   Dog\n",
       "3  dog.4632.jpg   Dog\n",
       "4  cat.3660.jpg   Cat\n",
       "5   dog.814.jpg   Dog\n",
       "6  dog.2066.jpg   Dog\n",
       "7  dog.8575.jpg   Dog\n",
       "8  dog.1444.jpg   Dog\n",
       "9  cat.9803.jpg   Cat"
      ]
     },
     "execution_count": 79,
     "metadata": {},
     "output_type": "execute_result"
    }
   ],
   "source": [
    "train_data.head(10)"
   ]
  },
  {
   "cell_type": "code",
   "execution_count": 80,
   "metadata": {
    "execution": {
     "iopub.execute_input": "2023-12-04T16:17:11.714297Z",
     "iopub.status.busy": "2023-12-04T16:17:11.713863Z",
     "iopub.status.idle": "2023-12-04T16:17:11.724949Z",
     "shell.execute_reply": "2023-12-04T16:17:11.723835Z",
     "shell.execute_reply.started": "2023-12-04T16:17:11.714265Z"
    }
   },
   "outputs": [
    {
     "data": {
      "text/html": [
       "<div>\n",
       "<style scoped>\n",
       "    .dataframe tbody tr th:only-of-type {\n",
       "        vertical-align: middle;\n",
       "    }\n",
       "\n",
       "    .dataframe tbody tr th {\n",
       "        vertical-align: top;\n",
       "    }\n",
       "\n",
       "    .dataframe thead th {\n",
       "        text-align: right;\n",
       "    }\n",
       "</style>\n",
       "<table border=\"1\" class=\"dataframe\">\n",
       "  <thead>\n",
       "    <tr style=\"text-align: right;\">\n",
       "      <th></th>\n",
       "      <th>Filename</th>\n",
       "    </tr>\n",
       "  </thead>\n",
       "  <tbody>\n",
       "    <tr>\n",
       "      <th>0</th>\n",
       "      <td>10435.jpg</td>\n",
       "    </tr>\n",
       "    <tr>\n",
       "      <th>1</th>\n",
       "      <td>6790.jpg</td>\n",
       "    </tr>\n",
       "    <tr>\n",
       "      <th>2</th>\n",
       "      <td>4644.jpg</td>\n",
       "    </tr>\n",
       "    <tr>\n",
       "      <th>3</th>\n",
       "      <td>1835.jpg</td>\n",
       "    </tr>\n",
       "    <tr>\n",
       "      <th>4</th>\n",
       "      <td>1102.jpg</td>\n",
       "    </tr>\n",
       "    <tr>\n",
       "      <th>5</th>\n",
       "      <td>8962.jpg</td>\n",
       "    </tr>\n",
       "    <tr>\n",
       "      <th>6</th>\n",
       "      <td>6040.jpg</td>\n",
       "    </tr>\n",
       "    <tr>\n",
       "      <th>7</th>\n",
       "      <td>4423.jpg</td>\n",
       "    </tr>\n",
       "    <tr>\n",
       "      <th>8</th>\n",
       "      <td>12072.jpg</td>\n",
       "    </tr>\n",
       "    <tr>\n",
       "      <th>9</th>\n",
       "      <td>1806.jpg</td>\n",
       "    </tr>\n",
       "  </tbody>\n",
       "</table>\n",
       "</div>"
      ],
      "text/plain": [
       "    Filename\n",
       "0  10435.jpg\n",
       "1   6790.jpg\n",
       "2   4644.jpg\n",
       "3   1835.jpg\n",
       "4   1102.jpg\n",
       "5   8962.jpg\n",
       "6   6040.jpg\n",
       "7   4423.jpg\n",
       "8  12072.jpg\n",
       "9   1806.jpg"
      ]
     },
     "execution_count": 80,
     "metadata": {},
     "output_type": "execute_result"
    }
   ],
   "source": [
    "test_data.head(10)"
   ]
  },
  {
   "cell_type": "code",
   "execution_count": 103,
   "metadata": {
    "execution": {
     "iopub.execute_input": "2023-12-04T16:49:36.799759Z",
     "iopub.status.busy": "2023-12-04T16:49:36.799353Z",
     "iopub.status.idle": "2023-12-04T16:49:36.981679Z",
     "shell.execute_reply": "2023-12-04T16:49:36.980805Z",
     "shell.execute_reply.started": "2023-12-04T16:49:36.799725Z"
    }
   },
   "outputs": [
    {
     "data": {
      "image/png": "[encoded data removed]",
      "text/plain": [
       "<Figure size 640x480 with 1 Axes>"
      ]
     },
     "metadata": {},
     "output_type": "display_data"
    }
   ],
   "source": [
    "a = train_data['Label'].value_counts()\n",
    "a = a/len(train_data['Label'])\n",
    "\n",
    "plt.bar(a.index, a.values, color = ['salmon','lightgreen'])\n",
    "plt.xlabel('Labels')\n",
    "plt.ylabel('% of labels')\n",
    "plt.title('Percentage disribution of Cats and Dogs')\n",
    "plt.show()"
   ]
  },
  {
   "cell_type": "code",
   "execution_count": 82,
   "metadata": {
    "execution": {
     "iopub.execute_input": "2023-12-04T16:17:17.602148Z",
     "iopub.status.busy": "2023-12-04T16:17:17.601240Z",
     "iopub.status.idle": "2023-12-04T16:17:17.612214Z",
     "shell.execute_reply": "2023-12-04T16:17:17.611072Z",
     "shell.execute_reply.started": "2023-12-04T16:17:17.602114Z"
    }
   },
   "outputs": [],
   "source": [
    "train_df, val_df = train_test_split(train_data, test_size=0.2, random_state=42)"
   ]
  },
  {
   "cell_type": "code",
   "execution_count": 83,
   "metadata": {
    "execution": {
     "iopub.execute_input": "2023-12-04T16:17:19.435787Z",
     "iopub.status.busy": "2023-12-04T16:17:19.435428Z",
     "iopub.status.idle": "2023-12-04T16:17:19.442357Z",
     "shell.execute_reply": "2023-12-04T16:17:19.441390Z",
     "shell.execute_reply.started": "2023-12-04T16:17:19.435760Z"
    }
   },
   "outputs": [
    {
     "data": {
      "text/plain": [
       "Index([23311, 23623,  1020, 12645,  1533,  3518,   483, 19370, 12667,  7403,\n",
       "       ...\n",
       "       16850,  6265, 22118, 11284, 11964, 21575,  5390,   860, 15795, 23654],\n",
       "      dtype='int64', length=20000)"
      ]
     },
     "execution_count": 83,
     "metadata": {},
     "output_type": "execute_result"
    }
   ],
   "source": [
    "train_df.index"
   ]
  },
  {
   "cell_type": "code",
   "execution_count": 84,
   "metadata": {
    "execution": {
     "iopub.execute_input": "2023-12-04T16:17:21.905775Z",
     "iopub.status.busy": "2023-12-04T16:17:21.905383Z",
     "iopub.status.idle": "2023-12-04T16:17:21.912971Z",
     "shell.execute_reply": "2023-12-04T16:17:21.911903Z",
     "shell.execute_reply.started": "2023-12-04T16:17:21.905741Z"
    }
   },
   "outputs": [
    {
     "data": {
      "text/plain": [
       "Index([ 6868, 24016,  9668, 13640, 14018,  7488,  5804, 12909,  3386,  9567,\n",
       "       ...\n",
       "        2315, 19003, 18389, 11917,  9136,  8670, 11839,  4013, 21147,   695],\n",
       "      dtype='int64', length=5000)"
      ]
     },
     "execution_count": 84,
     "metadata": {},
     "output_type": "execute_result"
    }
   ],
   "source": [
    "val_df.index"
   ]
  },
  {
   "cell_type": "code",
   "execution_count": 86,
   "metadata": {
    "execution": {
     "iopub.execute_input": "2023-12-04T16:19:15.578404Z",
     "iopub.status.busy": "2023-12-04T16:19:15.577426Z",
     "iopub.status.idle": "2023-12-04T16:19:15.583070Z",
     "shell.execute_reply": "2023-12-04T16:19:15.582039Z",
     "shell.execute_reply.started": "2023-12-04T16:19:15.578366Z"
    }
   },
   "outputs": [],
   "source": [
    "train_df.reset_index(drop = True, inplace = True) #Resetting index of train dataframe"
   ]
  },
  {
   "cell_type": "code",
   "execution_count": 88,
   "metadata": {
    "execution": {
     "iopub.execute_input": "2023-12-04T16:19:24.307241Z",
     "iopub.status.busy": "2023-12-04T16:19:24.306267Z",
     "iopub.status.idle": "2023-12-04T16:19:24.311812Z",
     "shell.execute_reply": "2023-12-04T16:19:24.310900Z",
     "shell.execute_reply.started": "2023-12-04T16:19:24.307199Z"
    }
   },
   "outputs": [],
   "source": [
    "val_df.reset_index(drop = True, inplace = True) #Resetting index of validation dataframe"
   ]
  },
  {
   "cell_type": "code",
   "execution_count": 89,
   "metadata": {
    "execution": {
     "iopub.execute_input": "2023-12-04T16:20:25.901591Z",
     "iopub.status.busy": "2023-12-04T16:20:25.900928Z",
     "iopub.status.idle": "2023-12-04T16:20:26.149503Z",
     "shell.execute_reply": "2023-12-04T16:20:26.148694Z",
     "shell.execute_reply.started": "2023-12-04T16:20:25.901560Z"
    }
   },
   "outputs": [
    {
     "name": "stdout",
     "output_type": "stream",
     "text": [
      "Found 20000 validated image filenames belonging to 2 classes.\n"
     ]
    }
   ],
   "source": [
    "# Using ImageData Generator to augment image data for neural networks\n",
    "\n",
    "# Creating an instance of ImageData Generator specifying parameters of augmentation\n",
    "\n",
    "train_datagen = ImageDataGenerator(\n",
    "    rotation_range=15,      # Random rotation within 15 degrees\n",
    "    rescale=1./255,         # Rescaling factor for normalization of pixels\n",
    "    zoom_range=0.2,         # Random zoom by 20%\n",
    "    horizontal_flip=True,   # Random horizontal flipping\n",
    "    width_shift_range=0.1,  # Random horizontal shift by 10%\n",
    "    height_shift_range=0.1  # Random vertical shift by 10%\n",
    ")\n",
    "\n",
    "# Creating a generator to apply transformation to image data\n",
    "\n",
    "train_generator = train_datagen.flow_from_dataframe(\n",
    "    train_df, \n",
    "    \"../data/train/\", \n",
    "    x_col='Filename',\n",
    "    y_col='Label',\n",
    "    class_mode='categorical',\n",
    "    target_size=(224,224),\n",
    "    batch_size=100\n",
    ")"
   ]
  },
  {
   "cell_type": "code",
   "execution_count": 90,
   "metadata": {
    "execution": {
     "iopub.execute_input": "2023-12-04T16:20:28.868872Z",
     "iopub.status.busy": "2023-12-04T16:20:28.867980Z",
     "iopub.status.idle": "2023-12-04T16:20:28.937777Z",
     "shell.execute_reply": "2023-12-04T16:20:28.936927Z",
     "shell.execute_reply.started": "2023-12-04T16:20:28.868837Z"
    }
   },
   "outputs": [
    {
     "name": "stdout",
     "output_type": "stream",
     "text": [
      "Found 5000 validated image filenames belonging to 2 classes.\n"
     ]
    }
   ],
   "source": [
    "# Using ImageData Generator to augment image data for neural networks\n",
    "\n",
    "# Creating an instance of ImageData Generator specifying parameters of augmentation\n",
    "\n",
    "val_datagen = ImageDataGenerator(rescale=1./255) # Rescaling factor for normalization of pixels\n",
    "\n",
    "val_generator = val_datagen.flow_from_dataframe(\n",
    "    val_df, \n",
    "    \"../data/train/\", \n",
    "    x_col='Filename',\n",
    "    y_col='Label',\n",
    "    class_mode='categorical',\n",
    "    target_size=(224,224),\n",
    "    batch_size=100\n",
    ")"
   ]
  },
  {
   "cell_type": "code",
   "execution_count": 91,
   "metadata": {
    "execution": {
     "iopub.execute_input": "2023-12-04T16:20:31.003180Z",
     "iopub.status.busy": "2023-12-04T16:20:31.002780Z",
     "iopub.status.idle": "2023-12-04T16:20:31.137221Z",
     "shell.execute_reply": "2023-12-04T16:20:31.136464Z",
     "shell.execute_reply.started": "2023-12-04T16:20:31.003149Z"
    }
   },
   "outputs": [
    {
     "name": "stdout",
     "output_type": "stream",
     "text": [
      "Found 12500 validated image filenames.\n"
     ]
    }
   ],
   "source": [
    "# Using ImageData Generator to augment image data for neural networks\n",
    "\n",
    "# Creating an instance of ImageData Generator specifying parameters of augmentation\n",
    "\n",
    "test_datagen = ImageDataGenerator(rescale=1./255) # Rescaling factor for normalization of pixels\n",
    "\n",
    "test_generator = test_datagen.flow_from_dataframe(\n",
    "    test_data, \n",
    "    \"../data/test/\", \n",
    "    x_col='Filename',\n",
    "    y_col=None,\n",
    "    class_mode=None,\n",
    "    target_size=(224,224),\n",
    "    batch_size=100,\n",
    "    shuffle = False\n",
    ")"
   ]
  },
  {
   "cell_type": "markdown",
   "metadata": {},
   "source": [
    "**VGG16**"
   ]
  },
  {
   "cell_type": "code",
   "execution_count": 92,
   "metadata": {
    "execution": {
     "iopub.execute_input": "2023-12-04T16:20:33.724659Z",
     "iopub.status.busy": "2023-12-04T16:20:33.723701Z",
     "iopub.status.idle": "2023-12-04T16:20:34.073967Z",
     "shell.execute_reply": "2023-12-04T16:20:34.073094Z",
     "shell.execute_reply.started": "2023-12-04T16:20:33.724610Z"
    }
   },
   "outputs": [],
   "source": [
    "from tensorflow.keras.callbacks import EarlyStopping\n",
    "\n",
    "# Load the pre-trained VGG16 model without the top (fully connected) layers\n",
    "base_model = VGG16(weights='imagenet', include_top=False, input_shape=(224, 224, 3))\n",
    "\n",
    "# Freeze the weights of the pre-trained layers\n",
    "for layer in base_model.layers:\n",
    "    layer.trainable = False"
   ]
  },
  {
   "cell_type": "code",
   "execution_count": 93,
   "metadata": {
    "execution": {
     "iopub.execute_input": "2023-12-04T16:20:35.517315Z",
     "iopub.status.busy": "2023-12-04T16:20:35.516543Z",
     "iopub.status.idle": "2023-12-04T16:20:35.624363Z",
     "shell.execute_reply": "2023-12-04T16:20:35.619943Z",
     "shell.execute_reply.started": "2023-12-04T16:20:35.517279Z"
    }
   },
   "outputs": [],
   "source": [
    "# Build the classification model on top of the pre-trained base model\n",
    "model_vgg16 = Sequential()\n",
    "model_vgg16.add(base_model)\n",
    "model_vgg16.add(GlobalAveragePooling2D())\n",
    "model_vgg16.add(Dense(256, activation='relu'))\n",
    "model_vgg16.add(Dropout(0.5))\n",
    "model_vgg16.add(Dense(2, activation='softmax'))  # 2 classes: Cat and Dog"
   ]
  },
  {
   "cell_type": "code",
   "execution_count": 94,
   "metadata": {
    "execution": {
     "iopub.execute_input": "2023-12-04T16:20:37.873744Z",
     "iopub.status.busy": "2023-12-04T16:20:37.873373Z",
     "iopub.status.idle": "2023-12-04T16:20:37.905414Z",
     "shell.execute_reply": "2023-12-04T16:20:37.904584Z",
     "shell.execute_reply.started": "2023-12-04T16:20:37.873712Z"
    }
   },
   "outputs": [
    {
     "name": "stdout",
     "output_type": "stream",
     "text": [
      "Model: \"sequential_3\"\n",
      "_________________________________________________________________\n",
      " Layer (type)                Output Shape              Param #   \n",
      "=================================================================\n",
      " vgg16 (Functional)          (None, 7, 7, 512)         14714688  \n",
      "                                                                 \n",
      " global_average_pooling2d_5  (None, 512)               0         \n",
      "  (GlobalAveragePooling2D)                                       \n",
      "                                                                 \n",
      " dense_10 (Dense)            (None, 256)               131328    \n",
      "                                                                 \n",
      " dropout_1 (Dropout)         (None, 256)               0         \n",
      "                                                                 \n",
      " dense_11 (Dense)            (None, 2)                 514       \n",
      "                                                                 \n",
      "=================================================================\n",
      "Total params: 14846530 (56.64 MB)\n",
      "Trainable params: 131842 (515.01 KB)\n",
      "Non-trainable params: 14714688 (56.13 MB)\n",
      "_________________________________________________________________\n"
     ]
    }
   ],
   "source": [
    "# Compile the model\n",
    "model_vgg16.compile(optimizer=Adam(lr=0.0001), loss='categorical_crossentropy', metrics=['accuracy'])\n",
    "\n",
    "# Display the model summary\n",
    "model_vgg16.summary()"
   ]
  },
  {
   "cell_type": "code",
   "execution_count": 95,
   "metadata": {
    "execution": {
     "iopub.execute_input": "2023-12-04T16:20:41.124430Z",
     "iopub.status.busy": "2023-12-04T16:20:41.123668Z",
     "iopub.status.idle": "2023-12-04T16:20:41.128615Z",
     "shell.execute_reply": "2023-12-04T16:20:41.127689Z",
     "shell.execute_reply.started": "2023-12-04T16:20:41.124393Z"
    }
   },
   "outputs": [],
   "source": [
    "# Set up EarlyStopping callback to stop training if the validation loss doesn't improve\n",
    "early_stopping = EarlyStopping(monitor='val_loss', patience=3, restore_best_weights=True)"
   ]
  },
  {
   "cell_type": "code",
   "execution_count": 96,
   "metadata": {
    "execution": {
     "iopub.execute_input": "2023-12-04T16:20:53.142018Z",
     "iopub.status.busy": "2023-12-04T16:20:53.141262Z",
     "iopub.status.idle": "2023-12-04T16:43:15.076649Z",
     "shell.execute_reply": "2023-12-04T16:43:15.075764Z",
     "shell.execute_reply.started": "2023-12-04T16:20:53.141975Z"
    }
   },
   "outputs": [
    {
     "name": "stdout",
     "output_type": "stream",
     "text": [
      "Epoch 1/5\n",
      "200/200 [==============================] - 270s 1s/step - loss: 0.3966 - accuracy: 0.8170 - val_loss: 0.2392 - val_accuracy: 0.9006\n",
      "Epoch 2/5\n",
      "200/200 [==============================] - 268s 1s/step - loss: 0.2747 - accuracy: 0.8822 - val_loss: 0.2005 - val_accuracy: 0.9144\n",
      "Epoch 3/5\n",
      "200/200 [==============================] - 268s 1s/step - loss: 0.2514 - accuracy: 0.8927 - val_loss: 0.1868 - val_accuracy: 0.9192\n",
      "Epoch 4/5\n",
      "200/200 [==============================] - 268s 1s/step - loss: 0.2395 - accuracy: 0.8992 - val_loss: 0.1803 - val_accuracy: 0.9206\n",
      "Epoch 5/5\n",
      "200/200 [==============================] - 266s 1s/step - loss: 0.2270 - accuracy: 0.9067 - val_loss: 0.1968 - val_accuracy: 0.9194\n"
     ]
    }
   ],
   "source": [
    "# Train the model using the data generators\n",
    "history = model_vgg16.fit(\n",
    "    train_generator,\n",
    "    steps_per_epoch=train_generator.n // train_generator.batch_size,\n",
    "    epochs=5,\n",
    "    validation_data=val_generator,\n",
    "    validation_steps=val_generator.n // val_generator.batch_size,\n",
    "    callbacks=[early_stopping]\n",
    ")"
   ]
  },
  {
   "cell_type": "code",
   "execution_count": 97,
   "metadata": {
    "execution": {
     "iopub.execute_input": "2023-12-04T16:43:44.367848Z",
     "iopub.status.busy": "2023-12-04T16:43:44.366952Z",
     "iopub.status.idle": "2023-12-04T16:44:39.219171Z",
     "shell.execute_reply": "2023-12-04T16:44:39.218233Z",
     "shell.execute_reply.started": "2023-12-04T16:43:44.367813Z"
    }
   },
   "outputs": [
    {
     "name": "stderr",
     "output_type": "stream",
     "text": [
      "/tmp/ipykernel_47/3506741850.py:2: UserWarning: `Model.predict_generator` is deprecated and will be removed in a future version. Please use `Model.predict`, which supports generators.\n",
      "  predict_vgg16 = model_vgg16.predict_generator(test_generator, steps=test_generator.n // test_generator.batch_size, verbose=1)\n"
     ]
    },
    {
     "name": "stdout",
     "output_type": "stream",
     "text": [
      "125/125 [==============================] - 54s 433ms/step\n"
     ]
    }
   ],
   "source": [
    "# Evaluate the model on the test set\n",
    "predict_vgg16 = model_vgg16.predict_generator(test_generator, steps=test_generator.n // test_generator.batch_size, verbose=1)"
   ]
  },
  {
   "cell_type": "code",
   "execution_count": 98,
   "metadata": {
    "execution": {
     "iopub.execute_input": "2023-12-04T16:45:01.238269Z",
     "iopub.status.busy": "2023-12-04T16:45:01.237649Z",
     "iopub.status.idle": "2023-12-04T16:45:01.249692Z",
     "shell.execute_reply": "2023-12-04T16:45:01.248810Z",
     "shell.execute_reply.started": "2023-12-04T16:45:01.238237Z"
    }
   },
   "outputs": [],
   "source": [
    "test_vgg16 = test_data\n",
    "\n",
    "test_vgg16['label'] = list(predict_vgg16[:, 1])"
   ]
  },
  {
   "cell_type": "code",
   "execution_count": 99,
   "metadata": {
    "execution": {
     "iopub.execute_input": "2023-12-04T16:45:29.257296Z",
     "iopub.status.busy": "2023-12-04T16:45:29.256881Z",
     "iopub.status.idle": "2023-12-04T16:45:29.277006Z",
     "shell.execute_reply": "2023-12-04T16:45:29.276221Z",
     "shell.execute_reply.started": "2023-12-04T16:45:29.257263Z"
    }
   },
   "outputs": [],
   "source": [
    "test_vgg16['ID'] = test_vgg16['Filename'].apply(lambda x: int(x.replace('.jpg', '')))\n",
    "test_vgg16 = test_vgg16.sort_values(by='ID')"
   ]
  },
  {
   "cell_type": "code",
   "execution_count": 100,
   "metadata": {
    "execution": {
     "iopub.execute_input": "2023-12-04T16:45:32.671586Z",
     "iopub.status.busy": "2023-12-04T16:45:32.671241Z",
     "iopub.status.idle": "2023-12-04T16:45:32.682550Z",
     "shell.execute_reply": "2023-12-04T16:45:32.681462Z",
     "shell.execute_reply.started": "2023-12-04T16:45:32.671559Z"
    }
   },
   "outputs": [
    {
     "data": {
      "text/html": [
       "<div>\n",
       "<style scoped>\n",
       "    .dataframe tbody tr th:only-of-type {\n",
       "        vertical-align: middle;\n",
       "    }\n",
       "\n",
       "    .dataframe tbody tr th {\n",
       "        vertical-align: top;\n",
       "    }\n",
       "\n",
       "    .dataframe thead th {\n",
       "        text-align: right;\n",
       "    }\n",
       "</style>\n",
       "<table border=\"1\" class=\"dataframe\">\n",
       "  <thead>\n",
       "    <tr style=\"text-align: right;\">\n",
       "      <th></th>\n",
       "      <th>Filename</th>\n",
       "      <th>label</th>\n",
       "      <th>ID</th>\n",
       "    </tr>\n",
       "  </thead>\n",
       "  <tbody>\n",
       "    <tr>\n",
       "      <th>0</th>\n",
       "      <td>10435.jpg</td>\n",
       "      <td>0.000501</td>\n",
       "      <td>10435</td>\n",
       "    </tr>\n",
       "    <tr>\n",
       "      <th>1</th>\n",
       "      <td>6790.jpg</td>\n",
       "      <td>0.999972</td>\n",
       "      <td>6790</td>\n",
       "    </tr>\n",
       "    <tr>\n",
       "      <th>2</th>\n",
       "      <td>4644.jpg</td>\n",
       "      <td>0.210975</td>\n",
       "      <td>4644</td>\n",
       "    </tr>\n",
       "    <tr>\n",
       "      <th>3</th>\n",
       "      <td>1835.jpg</td>\n",
       "      <td>0.005468</td>\n",
       "      <td>1835</td>\n",
       "    </tr>\n",
       "    <tr>\n",
       "      <th>4</th>\n",
       "      <td>1102.jpg</td>\n",
       "      <td>0.001307</td>\n",
       "      <td>1102</td>\n",
       "    </tr>\n",
       "    <tr>\n",
       "      <th>5</th>\n",
       "      <td>8962.jpg</td>\n",
       "      <td>0.080620</td>\n",
       "      <td>8962</td>\n",
       "    </tr>\n",
       "    <tr>\n",
       "      <th>6</th>\n",
       "      <td>6040.jpg</td>\n",
       "      <td>0.837491</td>\n",
       "      <td>6040</td>\n",
       "    </tr>\n",
       "    <tr>\n",
       "      <th>7</th>\n",
       "      <td>4423.jpg</td>\n",
       "      <td>0.062935</td>\n",
       "      <td>4423</td>\n",
       "    </tr>\n",
       "    <tr>\n",
       "      <th>8</th>\n",
       "      <td>12072.jpg</td>\n",
       "      <td>0.578891</td>\n",
       "      <td>12072</td>\n",
       "    </tr>\n",
       "    <tr>\n",
       "      <th>9</th>\n",
       "      <td>1806.jpg</td>\n",
       "      <td>0.907292</td>\n",
       "      <td>1806</td>\n",
       "    </tr>\n",
       "  </tbody>\n",
       "</table>\n",
       "</div>"
      ],
      "text/plain": [
       "    Filename     label     ID\n",
       "0  10435.jpg  0.000501  10435\n",
       "1   6790.jpg  0.999972   6790\n",
       "2   4644.jpg  0.210975   4644\n",
       "3   1835.jpg  0.005468   1835\n",
       "4   1102.jpg  0.001307   1102\n",
       "5   8962.jpg  0.080620   8962\n",
       "6   6040.jpg  0.837491   6040\n",
       "7   4423.jpg  0.062935   4423\n",
       "8  12072.jpg  0.578891  12072\n",
       "9   1806.jpg  0.907292   1806"
      ]
     },
     "execution_count": 100,
     "metadata": {},
     "output_type": "execute_result"
    }
   ],
   "source": [
    "test_data.head(10)"
   ]
  },
  {
   "cell_type": "code",
   "execution_count": 101,
   "metadata": {
    "execution": {
     "iopub.execute_input": "2023-12-04T16:45:41.148476Z",
     "iopub.status.busy": "2023-12-04T16:45:41.148122Z",
     "iopub.status.idle": "2023-12-04T16:45:41.194974Z",
     "shell.execute_reply": "2023-12-04T16:45:41.193896Z",
     "shell.execute_reply.started": "2023-12-04T16:45:41.148449Z"
    }
   },
   "outputs": [],
   "source": [
    "test_data[['ID', 'label']].to_csv('first_vgg16.csv', index = False)"
   ]
  },
  {
   "cell_type": "markdown",
   "metadata": {},
   "source": [
    "**InceptionV3**"
   ]
  },
  {
   "cell_type": "code",
   "execution_count": 53,
   "metadata": {
    "execution": {
     "iopub.execute_input": "2023-12-04T15:12:36.458811Z",
     "iopub.status.busy": "2023-12-04T15:12:36.458163Z",
     "iopub.status.idle": "2023-12-04T15:12:38.866401Z",
     "shell.execute_reply": "2023-12-04T15:12:38.865382Z",
     "shell.execute_reply.started": "2023-12-04T15:12:36.458779Z"
    }
   },
   "outputs": [],
   "source": [
    "# Load the InceptionV3 model pre-trained on ImageNet data\n",
    "base_model = InceptionV3(weights='imagenet', include_top=False, input_shape=(224, 224, 3))\n",
    "\n",
    "# Freeze the layers of the pre-trained model\n",
    "for layer in base_model.layers:\n",
    "    layer.trainable = False"
   ]
  },
  {
   "cell_type": "code",
   "execution_count": 54,
   "metadata": {
    "execution": {
     "iopub.execute_input": "2023-12-04T15:12:41.157385Z",
     "iopub.status.busy": "2023-12-04T15:12:41.156482Z",
     "iopub.status.idle": "2023-12-04T15:12:41.891076Z",
     "shell.execute_reply": "2023-12-04T15:12:41.890298Z",
     "shell.execute_reply.started": "2023-12-04T15:12:41.157348Z"
    }
   },
   "outputs": [],
   "source": [
    "# Create a new model on top of the pre-trained model\n",
    "model_iv3 = Sequential([\n",
    "    base_model,\n",
    "    GlobalAveragePooling2D(),\n",
    "    Dense(256, activation='relu'),\n",
    "    Dense(2, activation='softmax')  # 2 classes: Cat and Dog\n",
    "])"
   ]
  },
  {
   "cell_type": "code",
   "execution_count": 55,
   "metadata": {
    "execution": {
     "iopub.execute_input": "2023-12-04T15:13:23.137146Z",
     "iopub.status.busy": "2023-12-04T15:13:23.136467Z",
     "iopub.status.idle": "2023-12-04T15:13:23.196784Z",
     "shell.execute_reply": "2023-12-04T15:13:23.195882Z",
     "shell.execute_reply.started": "2023-12-04T15:13:23.137110Z"
    }
   },
   "outputs": [
    {
     "name": "stdout",
     "output_type": "stream",
     "text": [
      "Model: \"sequential_2\"\n",
      "_________________________________________________________________\n",
      " Layer (type)                Output Shape              Param #   \n",
      "=================================================================\n",
      " inception_v3 (Functional)   (None, 5, 5, 2048)        21802784  \n",
      "                                                                 \n",
      " global_average_pooling2d_2  (None, 2048)              0         \n",
      "  (GlobalAveragePooling2D)                                       \n",
      "                                                                 \n",
      " dense_4 (Dense)             (None, 256)               524544    \n",
      "                                                                 \n",
      " dense_5 (Dense)             (None, 2)                 514       \n",
      "                                                                 \n",
      "=================================================================\n",
      "Total params: 22327842 (85.17 MB)\n",
      "Trainable params: 525058 (2.00 MB)\n",
      "Non-trainable params: 21802784 (83.17 MB)\n",
      "_________________________________________________________________\n"
     ]
    }
   ],
   "source": [
    "# Compile the model\n",
    "model_iv3.compile(optimizer='adam', loss='categorical_crossentropy', metrics=['accuracy'])\n",
    "\n",
    "# Display the model summary\n",
    "model_iv3.summary()"
   ]
  },
  {
   "cell_type": "code",
   "execution_count": 56,
   "metadata": {
    "execution": {
     "iopub.execute_input": "2023-12-04T15:13:26.608229Z",
     "iopub.status.busy": "2023-12-04T15:13:26.607818Z",
     "iopub.status.idle": "2023-12-04T15:34:36.536418Z",
     "shell.execute_reply": "2023-12-04T15:34:36.535414Z",
     "shell.execute_reply.started": "2023-12-04T15:13:26.608196Z"
    }
   },
   "outputs": [
    {
     "name": "stdout",
     "output_type": "stream",
     "text": [
      "Epoch 1/5\n",
      "200/200 [==============================] - 259s 1s/step - loss: 0.0724 - accuracy: 0.9739 - val_loss: 0.0578 - val_accuracy: 0.9810\n",
      "Epoch 2/5\n",
      "200/200 [==============================] - 253s 1s/step - loss: 0.0427 - accuracy: 0.9855 - val_loss: 0.0386 - val_accuracy: 0.9854\n",
      "Epoch 3/5\n",
      "200/200 [==============================] - 252s 1s/step - loss: 0.0433 - accuracy: 0.9839 - val_loss: 0.0416 - val_accuracy: 0.9842\n",
      "Epoch 4/5\n",
      "200/200 [==============================] - 252s 1s/step - loss: 0.0423 - accuracy: 0.9840 - val_loss: 0.0389 - val_accuracy: 0.9856\n",
      "Epoch 5/5\n",
      "200/200 [==============================] - 252s 1s/step - loss: 0.0367 - accuracy: 0.9860 - val_loss: 0.0433 - val_accuracy: 0.9856\n"
     ]
    }
   ],
   "source": [
    "# Train the model\n",
    "history = model_iv3.fit(\n",
    "    train_generator,\n",
    "    steps_per_epoch=train_generator.n // train_generator.batch_size,\n",
    "    epochs=5,\n",
    "    validation_data=val_generator,\n",
    "    validation_steps=val_generator.n // val_generator.batch_size,\n",
    "    callbacks=[early_stopping]\n",
    ")"
   ]
  },
  {
   "cell_type": "code",
   "execution_count": 57,
   "metadata": {
    "execution": {
     "iopub.execute_input": "2023-12-04T15:34:43.520889Z",
     "iopub.status.busy": "2023-12-04T15:34:43.520201Z",
     "iopub.status.idle": "2023-12-04T15:35:17.883680Z",
     "shell.execute_reply": "2023-12-04T15:35:17.882865Z",
     "shell.execute_reply.started": "2023-12-04T15:34:43.520854Z"
    }
   },
   "outputs": [
    {
     "name": "stderr",
     "output_type": "stream",
     "text": [
      "/tmp/ipykernel_47/1420846515.py:2: UserWarning: `Model.predict_generator` is deprecated and will be removed in a future version. Please use `Model.predict`, which supports generators.\n",
      "  predict_iv3 = model_iv3.predict_generator(test_generator, steps=test_generator.n // test_generator.batch_size, verbose=1)\n"
     ]
    },
    {
     "name": "stdout",
     "output_type": "stream",
     "text": [
      "125/125 [==============================] - 34s 261ms/step\n"
     ]
    }
   ],
   "source": [
    "# Evaluate the model on the test set\n",
    "predict_iv3 = model_iv3.predict_generator(test_generator, steps=test_generator.n // test_generator.batch_size, verbose=1)"
   ]
  },
  {
   "cell_type": "code",
   "execution_count": 58,
   "metadata": {
    "execution": {
     "iopub.execute_input": "2023-12-04T15:36:14.995578Z",
     "iopub.status.busy": "2023-12-04T15:36:14.994767Z",
     "iopub.status.idle": "2023-12-04T15:36:15.019778Z",
     "shell.execute_reply": "2023-12-04T15:36:15.018837Z",
     "shell.execute_reply.started": "2023-12-04T15:36:14.995533Z"
    }
   },
   "outputs": [],
   "source": [
    "test_iv3 = test_data\n",
    "\n",
    "test_iv3['label'] = list(predict_iv3[:, 1])\n",
    "\n",
    "test_iv3['ID'] = test_iv3['Filename'].apply(lambda x: int(x.replace('.jpg', '')))\n",
    "test_iv3 = test_iv3.sort_values(by='ID')"
   ]
  },
  {
   "cell_type": "code",
   "execution_count": 59,
   "metadata": {
    "execution": {
     "iopub.execute_input": "2023-12-04T15:36:26.815490Z",
     "iopub.status.busy": "2023-12-04T15:36:26.815119Z",
     "iopub.status.idle": "2023-12-04T15:36:26.830769Z",
     "shell.execute_reply": "2023-12-04T15:36:26.829482Z",
     "shell.execute_reply.started": "2023-12-04T15:36:26.815461Z"
    }
   },
   "outputs": [
    {
     "data": {
      "text/html": [
       "<div>\n",
       "<style scoped>\n",
       "    .dataframe tbody tr th:only-of-type {\n",
       "        vertical-align: middle;\n",
       "    }\n",
       "\n",
       "    .dataframe tbody tr th {\n",
       "        vertical-align: top;\n",
       "    }\n",
       "\n",
       "    .dataframe thead th {\n",
       "        text-align: right;\n",
       "    }\n",
       "</style>\n",
       "<table border=\"1\" class=\"dataframe\">\n",
       "  <thead>\n",
       "    <tr style=\"text-align: right;\">\n",
       "      <th></th>\n",
       "      <th>Filename</th>\n",
       "      <th>label</th>\n",
       "      <th>ID</th>\n",
       "    </tr>\n",
       "  </thead>\n",
       "  <tbody>\n",
       "    <tr>\n",
       "      <th>9066</th>\n",
       "      <td>1.jpg</td>\n",
       "      <td>0.000006</td>\n",
       "      <td>1</td>\n",
       "    </tr>\n",
       "    <tr>\n",
       "      <th>11332</th>\n",
       "      <td>2.jpg</td>\n",
       "      <td>0.999647</td>\n",
       "      <td>2</td>\n",
       "    </tr>\n",
       "    <tr>\n",
       "      <th>5360</th>\n",
       "      <td>3.jpg</td>\n",
       "      <td>0.000313</td>\n",
       "      <td>3</td>\n",
       "    </tr>\n",
       "    <tr>\n",
       "      <th>12343</th>\n",
       "      <td>4.jpg</td>\n",
       "      <td>0.000219</td>\n",
       "      <td>4</td>\n",
       "    </tr>\n",
       "    <tr>\n",
       "      <th>10594</th>\n",
       "      <td>5.jpg</td>\n",
       "      <td>0.000021</td>\n",
       "      <td>5</td>\n",
       "    </tr>\n",
       "    <tr>\n",
       "      <th>9173</th>\n",
       "      <td>6.jpg</td>\n",
       "      <td>0.000653</td>\n",
       "      <td>6</td>\n",
       "    </tr>\n",
       "    <tr>\n",
       "      <th>3334</th>\n",
       "      <td>7.jpg</td>\n",
       "      <td>0.995152</td>\n",
       "      <td>7</td>\n",
       "    </tr>\n",
       "    <tr>\n",
       "      <th>4995</th>\n",
       "      <td>8.jpg</td>\n",
       "      <td>0.206457</td>\n",
       "      <td>8</td>\n",
       "    </tr>\n",
       "    <tr>\n",
       "      <th>6160</th>\n",
       "      <td>9.jpg</td>\n",
       "      <td>0.000537</td>\n",
       "      <td>9</td>\n",
       "    </tr>\n",
       "    <tr>\n",
       "      <th>7555</th>\n",
       "      <td>10.jpg</td>\n",
       "      <td>0.012062</td>\n",
       "      <td>10</td>\n",
       "    </tr>\n",
       "  </tbody>\n",
       "</table>\n",
       "</div>"
      ],
      "text/plain": [
       "      Filename     label  ID\n",
       "9066     1.jpg  0.000006   1\n",
       "11332    2.jpg  0.999647   2\n",
       "5360     3.jpg  0.000313   3\n",
       "12343    4.jpg  0.000219   4\n",
       "10594    5.jpg  0.000021   5\n",
       "9173     6.jpg  0.000653   6\n",
       "3334     7.jpg  0.995152   7\n",
       "4995     8.jpg  0.206457   8\n",
       "6160     9.jpg  0.000537   9\n",
       "7555    10.jpg  0.012062  10"
      ]
     },
     "execution_count": 59,
     "metadata": {},
     "output_type": "execute_result"
    }
   ],
   "source": [
    "test_iv3.head(10)"
   ]
  },
  {
   "cell_type": "code",
   "execution_count": 60,
   "metadata": {
    "execution": {
     "iopub.execute_input": "2023-12-04T15:37:02.852415Z",
     "iopub.status.busy": "2023-12-04T15:37:02.851359Z",
     "iopub.status.idle": "2023-12-04T15:37:02.902280Z",
     "shell.execute_reply": "2023-12-04T15:37:02.901495Z",
     "shell.execute_reply.started": "2023-12-04T15:37:02.852365Z"
    }
   },
   "outputs": [],
   "source": [
    "test_iv3[['ID', 'label']].to_csv('second_iv3.csv', index = False)"
   ]
  },
  {
   "cell_type": "markdown",
   "metadata": {},
   "source": [
    "***Resnet***"
   ]
  },
  {
   "cell_type": "code",
   "execution_count": 63,
   "metadata": {
    "execution": {
     "iopub.execute_input": "2023-12-04T15:42:06.270089Z",
     "iopub.status.busy": "2023-12-04T15:42:06.269620Z",
     "iopub.status.idle": "2023-12-04T15:42:08.649010Z",
     "shell.execute_reply": "2023-12-04T15:42:08.648117Z",
     "shell.execute_reply.started": "2023-12-04T15:42:06.270056Z"
    }
   },
   "outputs": [
    {
     "name": "stdout",
     "output_type": "stream",
     "text": [
      "Downloading data from https://storage.googleapis.com/tensorflow/keras-applications/resnet/resnet50_weights_tf_dim_ordering_tf_kernels_notop.h5\n",
      "94765736/94765736 [==============================] - 0s 0us/step\n"
     ]
    }
   ],
   "source": [
    "# Load the ResNet50 model pre-trained on ImageNet data\n",
    "base_model = ResNet50(weights='imagenet', include_top=False, input_shape=(224, 224, 3))\n",
    "\n",
    "# Freeze the pre-trained layers\n",
    "for layer in base_model.layers:\n",
    "    layer.trainable = False"
   ]
  },
  {
   "cell_type": "code",
   "execution_count": 67,
   "metadata": {
    "execution": {
     "iopub.execute_input": "2023-12-04T15:51:15.045467Z",
     "iopub.status.busy": "2023-12-04T15:51:15.044390Z",
     "iopub.status.idle": "2023-12-04T15:51:15.076236Z",
     "shell.execute_reply": "2023-12-04T15:51:15.075508Z",
     "shell.execute_reply.started": "2023-12-04T15:51:15.045432Z"
    }
   },
   "outputs": [],
   "source": [
    "# Add a custom top layer for binary classification (cats vs dogs)\n",
    "x = base_model.output\n",
    "x = GlobalAveragePooling2D()(x)\n",
    "x = Dense(256, activation='relu')(x)\n",
    "predictions = Dense(2, activation='sigmoid')(x)"
   ]
  },
  {
   "cell_type": "code",
   "execution_count": 68,
   "metadata": {
    "execution": {
     "iopub.execute_input": "2023-12-04T15:51:17.522653Z",
     "iopub.status.busy": "2023-12-04T15:51:17.521769Z",
     "iopub.status.idle": "2023-12-04T15:51:17.551612Z",
     "shell.execute_reply": "2023-12-04T15:51:17.550880Z",
     "shell.execute_reply.started": "2023-12-04T15:51:17.522617Z"
    }
   },
   "outputs": [],
   "source": [
    "# Create the final model\n",
    "model_resnet = Model(inputs=base_model.input, outputs=predictions)\n",
    "\n",
    "# Compile the model\n",
    "model_resnet.compile(optimizer='adam', loss='categorical_crossentropy', metrics=['accuracy'])"
   ]
  },
  {
   "cell_type": "code",
   "execution_count": 69,
   "metadata": {
    "execution": {
     "iopub.execute_input": "2023-12-04T15:51:19.498038Z",
     "iopub.status.busy": "2023-12-04T15:51:19.497156Z",
     "iopub.status.idle": "2023-12-04T16:13:05.353146Z",
     "shell.execute_reply": "2023-12-04T16:13:05.352110Z",
     "shell.execute_reply.started": "2023-12-04T15:51:19.497992Z"
    }
   },
   "outputs": [
    {
     "name": "stdout",
     "output_type": "stream",
     "text": [
      "Epoch 1/5\n",
      "200/200 [==============================] - 265s 1s/step - loss: 0.6848 - accuracy: 0.5767 - val_loss: 0.6528 - val_accuracy: 0.6024\n",
      "Epoch 2/5\n",
      "200/200 [==============================] - 259s 1s/step - loss: 0.6551 - accuracy: 0.6091 - val_loss: 0.6332 - val_accuracy: 0.6442\n",
      "Epoch 3/5\n",
      "200/200 [==============================] - 260s 1s/step - loss: 0.6467 - accuracy: 0.6237 - val_loss: 0.6403 - val_accuracy: 0.6214\n",
      "Epoch 4/5\n",
      "200/200 [==============================] - 260s 1s/step - loss: 0.6531 - accuracy: 0.6152 - val_loss: 0.6231 - val_accuracy: 0.6580\n",
      "Epoch 5/5\n",
      "200/200 [==============================] - 260s 1s/step - loss: 0.6442 - accuracy: 0.6226 - val_loss: 0.6233 - val_accuracy: 0.6522\n"
     ]
    }
   ],
   "source": [
    "# Train the model\n",
    "history = model_resnet.fit(\n",
    "    train_generator,\n",
    "    steps_per_epoch=train_generator.n // train_generator.batch_size,\n",
    "    epochs=5,\n",
    "    validation_data=val_generator,\n",
    "    validation_steps=val_generator.n // val_generator.batch_size,\n",
    "    callbacks=[early_stopping]\n",
    ")"
   ]
  },
  {
   "cell_type": "code",
   "execution_count": 70,
   "metadata": {
    "execution": {
     "iopub.execute_input": "2023-12-04T16:14:07.551725Z",
     "iopub.status.busy": "2023-12-04T16:14:07.550758Z",
     "iopub.status.idle": "2023-12-04T16:14:48.736057Z",
     "shell.execute_reply": "2023-12-04T16:14:48.735212Z",
     "shell.execute_reply.started": "2023-12-04T16:14:07.551687Z"
    }
   },
   "outputs": [
    {
     "name": "stderr",
     "output_type": "stream",
     "text": [
      "/tmp/ipykernel_47/3360168994.py:2: UserWarning: `Model.predict_generator` is deprecated and will be removed in a future version. Please use `Model.predict`, which supports generators.\n",
      "  predict_resnet = model_resnet.predict_generator(test_generator, steps=test_generator.n // test_generator.batch_size, verbose=1)\n"
     ]
    },
    {
     "name": "stdout",
     "output_type": "stream",
     "text": [
      "125/125 [==============================] - 41s 318ms/step\n"
     ]
    }
   ],
   "source": [
    "# Evaluate the model on the test set\n",
    "predict_resnet = model_resnet.predict_generator(test_generator, steps=test_generator.n // test_generator.batch_size, verbose=1)"
   ]
  },
  {
   "cell_type": "code",
   "execution_count": 71,
   "metadata": {
    "execution": {
     "iopub.execute_input": "2023-12-04T16:14:51.189419Z",
     "iopub.status.busy": "2023-12-04T16:14:51.189052Z",
     "iopub.status.idle": "2023-12-04T16:14:51.216670Z",
     "shell.execute_reply": "2023-12-04T16:14:51.215742Z",
     "shell.execute_reply.started": "2023-12-04T16:14:51.189389Z"
    }
   },
   "outputs": [],
   "source": [
    "test_resnet = test_data\n",
    "\n",
    "test_resnet['label'] = list(predict_resnet[:, 1])\n",
    "\n",
    "test_resnet['ID'] = test_resnet['Filename'].apply(lambda x: int(x.replace('.jpg', '')))\n",
    "test_resnet = test_resnet.sort_values(by='ID')"
   ]
  },
  {
   "cell_type": "code",
   "execution_count": 72,
   "metadata": {
    "execution": {
     "iopub.execute_input": "2023-12-04T16:14:58.379159Z",
     "iopub.status.busy": "2023-12-04T16:14:58.378136Z",
     "iopub.status.idle": "2023-12-04T16:14:58.423429Z",
     "shell.execute_reply": "2023-12-04T16:14:58.422637Z",
     "shell.execute_reply.started": "2023-12-04T16:14:58.379119Z"
    }
   },
   "outputs": [],
   "source": [
    "test_resnet[['ID', 'label']].to_csv('third_resnet.csv', index = False)"
   ]
  }
 ],
 "metadata": {
  "kaggle": {
   "accelerator": "nvidiaTeslaT4",
   "dataSources": [
    {
     "databundleVersionId": 38425,
     "sourceId": 5441,
     "sourceType": "competition"
    }
   ],
   "dockerImageVersionId": 30588,
   "isGpuEnabled": true,
   "isInternetEnabled": true,
   "language": "python",
   "sourceType": "notebook"
  },
  "kernelspec": {
   "display_name": "Python 3 (ipykernel)",
   "language": "python",
   "name": "python3"
  },
  "language_info": {
   "codemirror_mode": {
    "name": "ipython",
    "version": 3
   },
   "file_extension": ".py",
   "mimetype": "text/x-python",
   "name": "python",
   "nbconvert_exporter": "python",
   "pygments_lexer": "ipython3",
   "version": "3.10.9"
  }
 },
 "nbformat": 4,
 "nbformat_minor": 4
}
